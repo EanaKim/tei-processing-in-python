{
 "cells": [
  {
   "cell_type": "markdown",
   "metadata": {},
   "source": [
    "# Some simple accessing and processing of Epidoc TEI"
   ]
  },
  {
   "cell_type": "markdown",
   "metadata": {},
   "source": [
    "http://papyri.info/ddbdp/bgu;1;133\n",
    "\n",
    "XML of Edition: http://papyri.info/ddbdp/bgu;1;133/source"
   ]
  },
  {
   "cell_type": "code",
   "execution_count": 1,
   "metadata": {
    "collapsed": false
   },
   "outputs": [
    {
     "name": "stdout",
     "output_type": "stream",
     "text": [
      "1. The value atrributes of the num elements:\n",
      "['4', '7', '104', '6', '10', '14', '100', '8']\n",
      "Total: 253\n",
      "\n",
      "1. Pretty raw list of the original text of num elements:\n",
      "['δ \\n\\n    ', 'ζ ', 'ρδ ', 'ϛ ἄρνας ', 'ι, ἐξ ὧν ', ', \\n\\n    ', ' \\n\\n    ', 'η ']\n",
      "\n",
      "2. Original text of num elements with whitespace cleaned up:\n",
      "δ\n",
      "ζ\n",
      "ρδ\n",
      "ϛ ἄρνας\n",
      "ι, ἐξ ὧν\n",
      ",\n",
      "\n",
      "η\n",
      "\n",
      "3. The document with no xml markup:\n",
      "δ \n",
      "\n",
      "     Αἰλίωι Σαραπίωνι στρατηγῷ \n",
      "\n",
      "    Ἀρσινοΐτου Ἡρακλείδου μερίδος \n",
      "\n",
      "    παρὰ Σουχᾶ τοῦ Σουχᾶ \n",
      "\n",
      "    τοῦ Διοδώρου ἀπὸ ἀμφόδου \n",
      "\n",
      "    Ἑλληνίου. ἃ ἀπεγραψάμην \n",
      "\n",
      "    τῷ διεληλυθότι ζ ἔτει πρόβατα \n",
      "\n",
      "    ρδ αἶγας ϛ ἄρνας ι, ἐξ ὧν διε\n",
      "\n",
      "    φθάρηδιεφάαθη πρόβατα δέκα τέσσερα , \n",
      "\n",
      "    τὰ δὲ λοιπὰ πρόβατα ἑκατὸν  \n",
      "\n",
      "    ἀπογράφομαι καὶ εἰς τὸ ἐνεστὸς \n",
      "\n",
      "    η ἔτος Ἀντωνίνου Καίσαρος τοῦ κυρίου\n"
     ]
    }
   ],
   "source": [
    "\"\"\"This code is meant as a simple demo of grabbing TEI-encoded XML and doing trivial things with it.\"\"\"\n",
    "\n",
    "import sys\n",
    "from lxml import etree\n",
    "import urllib.request\n",
    "\n",
    "def xml_nodes_as_text_list(elements):\n",
    "    \"\"\"A simple function that doesn't really do much. Can handle elements or attributes.\"\"\"\n",
    "    els_list = []\n",
    "    for e in elements:\n",
    "        try:\n",
    "            e_as_text = etree.tounicode(e, method=\"text\")\n",
    "            if len(e_as_text):\n",
    "                els_list.append(e_as_text)\n",
    "        except TypeError:\n",
    "            els_list.append(e)\n",
    "            \n",
    "    return els_list\n",
    "\n",
    "def get_tei(url):\n",
    "    \"\"\"lxml seems not to like encoding declarations so this function removes if present.\"\"\"\n",
    "    f = urllib.request.urlopen(url)\n",
    "    tei_as_string = f.read().decode('utf-8').replace('encoding=\"UTF-8\"','')\n",
    "    return etree.XML(tei_as_string)\n",
    "\n",
    "namespaces = {'tei': 'http://www.tei-c.org/ns/1.0'}\n",
    "tei = get_tei('http://papyri.info/ddbdp/bgu;1;133/source')\n",
    "\n",
    "print(\"1. The value atrributes of the num elements:\")\n",
    "elements = tei.xpath(\"//tei:num/@value\",namespaces = namespaces)\n",
    "\n",
    "nums = xml_nodes_as_text_list(elements)\n",
    "print(nums)\n",
    "\n",
    "total = 0\n",
    "for n in nums:\n",
    "    total += int(n)\n",
    "print(\"Total: \" + str(total))\n",
    "\n",
    "print(\"\\n1. Pretty raw list of the original text of num elements:\")\n",
    "elements = tei.xpath(\"//tei:num\",namespaces = namespaces)\n",
    "print(xml_nodes_as_text_list(elements))\n",
    "\n",
    "print(\"\\n2. Original text of num elements with whitespace cleaned up:\")\n",
    "text_list = xml_nodes_as_text_list(elements)\n",
    "for text in text_list:\n",
    "    print(text.strip())\n",
    "\n",
    "print(\"\\n3. The document with no xml markup:\")\n",
    "    \n",
    "elements = tei.xpath(\"//tei:ab\",namespaces = namespaces)\n",
    "text_list = xml_nodes_as_text_list(elements)\n",
    "for text in text_list:\n",
    "    print(text.strip())\n"
   ]
  }
 ],
 "metadata": {
  "kernelspec": {
   "display_name": "Python 3",
   "language": "python",
   "name": "python3"
  },
  "language_info": {
   "codemirror_mode": {
    "name": "ipython",
    "version": 3
   },
   "file_extension": ".py",
   "mimetype": "text/x-python",
   "name": "python",
   "nbconvert_exporter": "python",
   "pygments_lexer": "ipython3",
   "version": "3.5.2"
  }
 },
 "nbformat": 4,
 "nbformat_minor": 1
}
